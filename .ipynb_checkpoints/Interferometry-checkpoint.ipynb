{
 "cells": [
  {
   "cell_type": "code",
   "execution_count": 1,
   "metadata": {},
   "outputs": [],
   "source": [
    "import numpy as np\n",
    "import scipy\n",
    "import sympy as sy\n",
    "from sympy import *\n",
    "import matplotlib.pyplot as plt"
   ]
  },
  {
   "cell_type": "code",
   "execution_count": 2,
   "metadata": {},
   "outputs": [],
   "source": [
    "#inclination of the container, rad\n",
    "theta = 0.02\n",
    "\n",
    "#refraction coefficients, pure number\n",
    "n_a = 1\n",
    "n_g = 1.5 * n_a\n",
    "n_l = 1.4 * n_a\n",
    "\n",
    "#speed of light, m/s\n",
    "c = 3 * 10**8\n",
    "\n",
    "#internal width of the container, m\n",
    "d = 5 * 10**(-2)\n",
    "\n",
    "#glass width, m\n",
    "delta = 5* 10**(-3)\n",
    "\n",
    "#angle between the laser beams which impact the container, rad\n",
    "phi = 10**(-5)\n",
    "\n",
    "#wavelength of laser, m\n",
    "wavelength = 8*10**(-7)\n",
    "\n",
    "#angle sensibility\n",
    "delta_theta = 1* 10**(-4)\n",
    "\n",
    "#array of plausible angles\n",
    "max_theta_deg = 5\n",
    "max_theta = np.deg2rad(max_theta_deg)\n",
    "N = 100\n",
    "theta_array = np.array(range(N)) / N * max_theta"
   ]
  },
  {
   "cell_type": "code",
   "execution_count": 15,
   "metadata": {},
   "outputs": [],
   "source": [
    "def difference_optical_path_nophi(theta, n_l, d):\n",
    "    '''In the approximation of parallel laser beams,\n",
    "    difference in c*time between the laser beams.\n",
    "    The path difference between the arms is ignored.\n",
    "    '''\n",
    "    \n",
    "    cdeltat = ( d * ((n_l /(np.sqrt(1 - (np.sin(theta) / n_l)**2))) \n",
    "                + np.sin(theta) * (np.tan(theta) - 1/(np.sqrt((n_l/np.sin(theta))**2 -1)))\n",
    "                - 1 / np.cos(theta))\n",
    "              )\n",
    "    \n",
    "    return(cdeltat)\n",
    "\n",
    "def length_path_air(theta, d, delta, n_l, n_g):\n",
    "    \n",
    "    h_g = 2 * delta / np.sqrt((n_g / np.sin(theta))**2 - 1)\n",
    "    h_l = d / np.sqrt((n_l / np.sin(theta))**2 - 1)\n",
    "    \n",
    "    length_path_air = (np.sin(theta) * ((d + 2 * delta) * np.tan(theta) - h_g - h_l) \n",
    "                        - (d + 2 * delta) / np.cos(theta))\n",
    "    \n",
    "    return(length_path_air)\n",
    "\n",
    "def length_path_glass(theta, d, delta, n_g):\n",
    "    \n",
    "    length_path_glass = 2 * delta / np.sqrt(1 - (np.sin(theta) / n_g)**2)\n",
    "    \n",
    "    return(length_path_glass)\n",
    "\n",
    "def length_path_liquid(theta, d, delta, n_l):\n",
    "    length_path_liquid = d / np.sqrt(1 - (np.sin(theta) / n_l)**2)\n",
    "    return(length_path_liquid)\n",
    "\n",
    "def total_path_length(theta, d, delta, n_g, n_l):\n",
    "    total_path_length = (length_path_air(theta, d, delta, n_l, n_g) \n",
    "    + n_g * length_path_glass(theta, d, delta, n_g) \n",
    "    + n_l * length_path_liquid(theta, d, delta, n_l))\n",
    "    return(total_path_length)\n",
    "\n",
    "def difference_optical_path_yesphi(theta, phi, n_g, n_l, d, delta):\n",
    "    '''Difference in optical path taking into account an angle phi between the two laser beams\n",
    "    before encountering the container.'''\n",
    "   \n",
    "    theta_prime = theta + phi    \n",
    "    cdeltat = total_path_length(theta, d, delta, n_g, n_l) - total_path_length(theta_prime, d, delta, n_g, 1)\n",
    "\n",
    "    return(cdeltat)\n",
    "    \n",
    "\n",
    "def n_fringes(wavelength, theta, n_l, d):\n",
    "    '''Number of fringes we see between theta=0 and the angle given.'''\n",
    "    \n",
    "    n_fringes = (2 / wavelength * (difference_optical_path_nophi(theta, n_l, d)\n",
    "                                 - difference_optical_path_nophi(0, n_l, d)))\n",
    "    \n",
    "    return(n_fringes)\n",
    "\n",
    "def epsilon(theta, n_l, n_g, d, delta):\n",
    "    '''Displacement of the laser beam in the perpendicular direction\n",
    "    corresponding to an angle theta, relative to theta = 0.'''\n",
    "    \n",
    "    epsilon = (np.cos(theta) * (d * (np.tan(theta) - 1/ np.sqrt((n_l/np.sin(theta))**2 -1)) \n",
    "                                + 2 * delta * (np.tan(theta) - 1/ np.sqrt((n_g/np.sin(theta))**2 -1))))\n",
    "    \n",
    "    return(epsilon)\n",
    "\n",
    "def deltaN(theta, delta_theta, wavelength, n_l, d):\n",
    "    '''Resolution at angle theta, corresponding to an angular resolution of delta_theta:\n",
    "    how many fringes do we see between theta and theta+delta_theta?'''\n",
    "    \n",
    "    theta1 = theta\n",
    "    theta2 = theta+delta_theta\n",
    "    deltaN = (n_fringes(wavelength, theta2, n_l, d) \n",
    "                - n_fringes(wavelength, theta1, n_l, d))\n",
    "    return(deltaN)"
   ]
  },
  {
   "cell_type": "code",
   "execution_count": null,
   "metadata": {},
   "outputs": [],
   "source": []
  },
  {
   "cell_type": "code",
   "execution_count": 24,
   "metadata": {},
   "outputs": [
    {
     "name": "stdout",
     "output_type": "stream",
     "text": [
      "0.020002857397486917 ,  0.019997519914592095\n"
     ]
    }
   ],
   "source": [
    "print(difference_optical_path_nophi(theta=theta, d=d, n_l=n_l), ', ',\n",
    "difference_optical_path_yesphi(theta=theta, d=d, delta= delta, n_l=n_l, n_g= n_g, phi=0.04))"
   ]
  },
  {
   "cell_type": "code",
   "execution_count": 18,
   "metadata": {},
   "outputs": [
    {
     "name": "stderr",
     "output_type": "stream",
     "text": [
      "/home/jacopo/anaconda3/lib/python3.6/site-packages/ipykernel_launcher.py:9: RuntimeWarning: divide by zero encountered in true_divide\n",
      "  if __name__ == '__main__':\n",
      "/home/jacopo/anaconda3/lib/python3.6/site-packages/ipykernel_launcher.py:9: RuntimeWarning: divide by zero encountered in double_scalars\n",
      "  if __name__ == '__main__':\n"
     ]
    },
    {
     "data": {
      "text/plain": [
       "<matplotlib.collections.PathCollection at 0x7f4f39ca9ef0>"
      ]
     },
     "execution_count": 18,
     "metadata": {},
     "output_type": "execute_result"
    },
    {
     "data": {
      "image/png": "[encoded data removed]",
      "text/plain": [
       "<Figure size 432x288 with 1 Axes>"
      ]
     },
     "metadata": {
      "needs_background": "light"
     },
     "output_type": "display_data"
    }
   ],
   "source": [
    "#for better resolution on the first points, set first_fringes to something less than N\n",
    "first_fringes = 50\n",
    "plt.scatter(theta_array[0:first_fringes],\n",
    "            n_fringes(wavelength, theta_array, n_l, d)[0:first_fringes])"
   ]
  },
  {
   "cell_type": "code",
   "execution_count": 21,
   "metadata": {},
   "outputs": [
    {
     "data": {
      "text/plain": [
       "0.0015426511053532157"
      ]
     },
     "execution_count": 21,
     "metadata": {},
     "output_type": "execute_result"
    }
   ],
   "source": [
    "epsilon(max_theta, n_l, n_g, d, delta)"
   ]
  },
  {
   "cell_type": "code",
   "execution_count": 19,
   "metadata": {},
   "outputs": [
    {
     "name": "stderr",
     "output_type": "stream",
     "text": [
      "/home/jacopo/anaconda3/lib/python3.6/site-packages/ipykernel_launcher.py:62: RuntimeWarning: divide by zero encountered in true_divide\n",
      "/home/jacopo/anaconda3/lib/python3.6/site-packages/ipykernel_launcher.py:63: RuntimeWarning: divide by zero encountered in true_divide\n"
     ]
    },
    {
     "data": {
      "text/plain": [
       "<matplotlib.collections.PathCollection at 0x7f4f39c8c780>"
      ]
     },
     "execution_count": 19,
     "metadata": {},
     "output_type": "execute_result"
    },
    {
     "data": {
      "image/png": "[encoded data removed]",
      "text/plain": [
       "<Figure size 432x288 with 1 Axes>"
      ]
     },
     "metadata": {
      "needs_background": "light"
     },
     "output_type": "display_data"
    }
   ],
   "source": [
    "plt.scatter(theta_array, np.array(epsilon(theta_array, n_l, n_g, d, delta)))"
   ]
  },
  {
   "cell_type": "code",
   "execution_count": 22,
   "metadata": {
    "scrolled": true
   },
   "outputs": [
    {
     "name": "stderr",
     "output_type": "stream",
     "text": [
      "/home/jacopo/anaconda3/lib/python3.6/site-packages/ipykernel_launcher.py:9: RuntimeWarning: divide by zero encountered in double_scalars\n",
      "  if __name__ == '__main__':\n",
      "/home/jacopo/anaconda3/lib/python3.6/site-packages/ipykernel_launcher.py:9: RuntimeWarning: divide by zero encountered in true_divide\n",
      "  if __name__ == '__main__':\n"
     ]
    },
    {
     "data": {
      "text/plain": [
       "<matplotlib.collections.PathCollection at 0x7f4f39bc5240>"
      ]
     },
     "execution_count": 22,
     "metadata": {},
     "output_type": "execute_result"
    },
    {
     "data": {
      "image/png": "[encoded data removed]",
      "text/plain": [
       "<Figure size 432x288 with 1 Axes>"
      ]
     },
     "metadata": {
      "needs_background": "light"
     },
     "output_type": "display_data"
    }
   ],
   "source": [
    "plt.scatter(theta_array,  deltaN(theta_array, delta_theta, wavelength, n_l, d))"
   ]
  },
  {
   "cell_type": "code",
   "execution_count": null,
   "metadata": {},
   "outputs": [],
   "source": []
  }
 ],
 "metadata": {
  "kernelspec": {
   "display_name": "Python 3",
   "language": "python",
   "name": "python3"
  },
  "language_info": {
   "codemirror_mode": {
    "name": "ipython",
    "version": 3
   },
   "file_extension": ".py",
   "mimetype": "text/x-python",
   "name": "python",
   "nbconvert_exporter": "python",
   "pygments_lexer": "ipython3",
   "version": "3.6.6"
  }
 },
 "nbformat": 4,
 "nbformat_minor": 2
}
