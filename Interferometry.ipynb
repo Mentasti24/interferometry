{
 "cells": [
  {
   "cell_type": "code",
   "execution_count": 1,
   "metadata": {},
   "outputs": [
    {
     "data": {
      "text/plain": [
       "{'divide': 'warn', 'invalid': 'warn', 'over': 'warn', 'under': 'ignore'}"
      ]
     },
     "execution_count": 1,
     "metadata": {},
     "output_type": "execute_result"
    }
   ],
   "source": [
    "import numpy as np\n",
    "import scipy\n",
    "import sympy as sy\n",
    "from sympy import *\n",
    "import matplotlib.pyplot as plt\n",
    "\n",
    "np.seterr(divide='ignore', invalid='ignore')"
   ]
  },
  {
   "cell_type": "code",
   "execution_count": 27,
   "metadata": {},
   "outputs": [],
   "source": [
    "#inclination of the container, rad\n",
    "theta = np.deg2rad(3.8)\n",
    "\n",
    "#refraction coefficients, pure number\n",
    "n_a = 1\n",
    "n_g = 1.6 * n_a\n",
    "n_l = 1.33 * n_a\n",
    "\n",
    "#speed of light, m/s\n",
    "c = 3 * 10**8\n",
    "\n",
    "#internal width of the container, m\n",
    "d = 1 * 10**(-2)\n",
    "\n",
    "#glass width, m\n",
    "delta = 3 * 10**(-3)\n",
    "\n",
    "#angle between the laser beams which impact the container, rad\n",
    "phi = 10**(-5)\n",
    "\n",
    "#wavelength of laser, m\n",
    "wavelength = 5.32 *10**(-7)\n",
    "\n",
    "#angle sensibility\n",
    "delta_theta = 4.3 * 10**(-5)\n",
    "delta_theta_deg = np.rad2deg(delta_theta)\n",
    "\n",
    "#array of plausible angles\n",
    "max_theta_deg = 10\n",
    "max_theta = np.deg2rad(max_theta_deg)\n",
    "N = 1000\n",
    "theta_array = np.array(range(N)) / N * max_theta\n",
    "\n",
    "\n",
    "#array of indices of refraction\n",
    "n_l_min = 1.4\n",
    "n_l_max = 1.5\n",
    "N = 1000\n",
    "n_l_array = np.array(range(N)) / N * (n_l_max - n_l_min) + n_l_min"
   ]
  },
  {
   "cell_type": "code",
   "execution_count": 21,
   "metadata": {},
   "outputs": [],
   "source": [
    "\"\"\"\n",
    "Old calculations.\n",
    "\n",
    "\"\"\"\n",
    "\n",
    "\n",
    "def difference_optical_path_nophi(theta, n_l, d):\n",
    "    '''In the approximation of parallel laser beams,\n",
    "    difference in c*time between the laser beams.\n",
    "    The path difference between the arms is ignored.\n",
    "    '''\n",
    "    \n",
    "    #cdeltat = ( d * ((n_l /(np.sqrt(1 - (np.sin(theta) / n_l)**2))) \n",
    "    #            + np.sin(theta) * (np.tan(theta) - 1/(np.sqrt((n_l/np.sin(theta))**2 -1)))\n",
    "    #            - 1 / np.cos(theta))\n",
    "    #          )\n",
    "    \n",
    "    cdeltat = d * ( 1 - n_l - np.cos(theta) + np.sqrt(n_l**2 - np.sin(theta)**2))\n",
    "    \n",
    "    return(cdeltat)\n",
    "\n",
    "\n",
    "def difference_optical_path_yesphi(theta, phi, n_g, n_l, d, delta):\n",
    "    '''Difference in optical path taking into account an angle phi between the two laser beams\n",
    "    before encountering the container.'''\n",
    "   \n",
    "    theta_prime = theta + phi    \n",
    "\n",
    "    '''Auxilliary functions follow'''\n",
    "    def length_path_air(theta, d, delta, n_l, n_g):\n",
    "    \n",
    "        h_g = 2 * delta / np.sqrt((n_g / np.sin(theta))**2 - 1)\n",
    "        h_l = d / np.sqrt((n_l / np.sin(theta))**2 - 1)\n",
    "\n",
    "        length_path_air = (np.sin(theta) * ((d + 2 * delta) * np.tan(theta) - h_g - h_l) \n",
    "                           - (d + 2 * delta) / np.cos(theta))\n",
    "\n",
    "        return(length_path_air)\n",
    "\n",
    "    def length_path_glass(theta, d, delta, n_g):\n",
    "\n",
    "        length_path_glass = 2 * delta / np.sqrt(1 - (np.sin(theta) / n_g)**2)\n",
    "\n",
    "        return(length_path_glass)\n",
    "\n",
    "    def length_path_liquid(theta, d, delta, n_l):\n",
    "        length_path_liquid = d / np.sqrt(1 - (np.sin(theta) / n_l)**2)\n",
    "        return(length_path_liquid)\n",
    "\n",
    "    def total_path_length(theta, d, delta, n_g, n_l):\n",
    "        total_path_length = (length_path_air(theta, d, delta, n_l, n_g) \n",
    "                             + n_g * length_path_glass(theta, d, delta, n_g) \n",
    "                             + n_l * length_path_liquid(theta, d, delta, n_l))\n",
    "        return(total_path_length)\n",
    "    \n",
    "    cdeltat = total_path_length(theta, d, delta, n_g, n_l) - total_path_length(theta_prime, d, delta, n_g, 1)\n",
    "\n",
    "    return(cdeltat)\n",
    "    \n",
    "\n",
    "def n_fringes(wavelength, theta, n_l, d):\n",
    "    '''Number of fringes we see between theta=0 and the angle given.'''\n",
    "    \n",
    "    n_fringes = (2 / wavelength * (difference_optical_path_nophi(theta, n_l, d)\n",
    "                                 - difference_optical_path_nophi(0, n_l, d)))\n",
    "    \n",
    "    return(n_fringes)\n",
    "\n",
    "def n_fringes_yesphi(wavelength, theta, n_l, n_g, d, delta, phi):\n",
    "    '''Number of fringes we see between theta=0 and the angle given, considering phi.'''\n",
    "    \n",
    "    n_fringes = (2 / wavelength * (difference_optical_path_yesphi(theta, phi, n_g, n_l, d, delta)\n",
    "                                 - difference_optical_path_yesphi(0, phi, n_g, n_l, d, delta)))\n",
    "    \n",
    "    return(n_fringes)\n",
    "\n",
    "\n",
    "def epsilon(theta, n_l, n_g, d, delta):\n",
    "    '''Displacement of the laser beam in the perpendicular direction\n",
    "    corresponding to an angle theta, relative to theta = 0.'''\n",
    "    \n",
    "    epsilon = (np.cos(theta) * (d * (np.tan(theta) - 1/ np.sqrt((n_l/np.sin(theta))**2 -1)) \n",
    "                                + 2 * delta * (np.tan(theta) - 1/ np.sqrt((n_g/np.sin(theta))**2 -1))))\n",
    "    \n",
    "    return(epsilon)\n",
    "\n",
    "def deltaN(theta, delta_theta, wavelength, n_l, d):\n",
    "    '''Resolution at angle theta, corresponding to an angular resolution of delta_theta:\n",
    "    how many fringes do we see between theta and theta+delta_theta?'''\n",
    "    \n",
    "    theta1 = theta\n",
    "    theta2 = theta+delta_theta\n",
    "    deltaN = (n_fringes(wavelength, theta2, n_l, d) \n",
    "                - n_fringes(wavelength, theta1, n_l, d))\n",
    "    return(deltaN)"
   ]
  },
  {
   "cell_type": "code",
   "execution_count": 44,
   "metadata": {},
   "outputs": [],
   "source": [
    "def fringes_difference_medium(theta, thickness, index, wavelength):\n",
    "    '''\n",
    "    Number of fringes observed between 0 and theta due to a \"thickness\" thick layer of medium \n",
    "    of refractive index \"index\"\n",
    "    '''\n",
    "    \n",
    "    nu = np.sign(theta) * 2 * thickness / wavelength * ( 1 - index - np.cos(theta) \n",
    "                                       + np.sqrt(index**2 - np.sin(theta)**2))\n",
    "    return(nu)"
   ]
  },
  {
   "cell_type": "code",
   "execution_count": 4,
   "metadata": {},
   "outputs": [],
   "source": [
    "def signal_fringes(theta, d, delta, n_l, n_g, wavelength):\n",
    "    n = (fringes_difference_medium(theta, d, n_l, wavelength) \n",
    "         + fringes_difference_medium(theta, 2 * delta, n_g, wavelength))\n",
    "    return(n)"
   ]
  },
  {
   "cell_type": "code",
   "execution_count": 51,
   "metadata": {},
   "outputs": [],
   "source": [
    "def theta_from_fringes_medium(N, thickness, index, wavelength):\n",
    "    \"\"\"\n",
    "    Inverse function of fringes_difference_medium, still for a generic medium\n",
    "    \n",
    "    \"\"\"\n",
    "    \n",
    "    gamma = wavelength / (2 * thickness)\n",
    "    \n",
    "    Nabs = np.abs(N)\n",
    "    theta = (np.sign(N) * np.arccos((index**2 - 1 - (gamma * Nabs + index - 1)**2)/(2*(gamma*Nabs+index-1))))\n",
    "    return(theta)"
   ]
  },
  {
   "cell_type": "code",
   "execution_count": 56,
   "metadata": {},
   "outputs": [
    {
     "name": "stdout",
     "output_type": "stream",
     "text": [
      "3.2022741717433606e-11\n"
     ]
    }
   ],
   "source": [
    "neg_theta_array = - theta_array\n",
    "complete_theta_array = np.concatenate((neg_theta_array, theta_array))\n",
    "fringes_array = fringes_difference_medium(complete_theta_array, d, n_l, wavelength)\n",
    "new_theta_array = theta_from_fringes_medium(fringes_array, d, n_l, wavelength)\n",
    "\n",
    "print(np.sum(np.abs(complete_theta_array-new_theta_array)))"
   ]
  },
  {
   "cell_type": "code",
   "execution_count": 22,
   "metadata": {},
   "outputs": [],
   "source": [
    "def difference_optical_path_nophi_simple(theta, n_l, d):\n",
    "    \n",
    "    cdeltat = (d * ( - np.cos(theta) + np.sqrt(n_l**2 - (np.sin(theta))**2)))\n",
    "    \n",
    "    return(cdeltat)"
   ]
  },
  {
   "cell_type": "code",
   "execution_count": 23,
   "metadata": {},
   "outputs": [
    {
     "name": "stdout",
     "output_type": "stream",
     "text": [
      "0.016025159935331042 ,  0.0160136150824157\n"
     ]
    }
   ],
   "source": [
    "print(difference_optical_path_nophi(theta=theta, d=d, n_l=n_l), ', ',\n",
    "difference_optical_path_yesphi(theta=theta, d=d, delta= delta, n_l=n_l, n_g= n_g, phi=0.04))"
   ]
  },
  {
   "cell_type": "code",
   "execution_count": 20,
   "metadata": {},
   "outputs": [
    {
     "name": "stdout",
     "output_type": "stream",
     "text": [
      "[0.003956 0.011438 0.004128]\n"
     ]
    }
   ],
   "source": [
    "diff_1_2 = 694 - 671\n",
    "diff_0_1 = (827-694)/2\n",
    "diff_2_1 = 851 - 827\n",
    "\n",
    "diff = np.array([diff_1_2, diff_0_1, diff_2_1]) #seconds\n",
    "diff_rad = diff * 4 * delta_theta\n",
    "print(diff_rad)"
   ]
  },
  {
   "cell_type": "code",
   "execution_count": 25,
   "metadata": {
    "scrolled": true
   },
   "outputs": [
    {
     "data": {
      "text/plain": [
       "[<matplotlib.lines.Line2D at 0x7f750322e8d0>]"
      ]
     },
     "execution_count": 25,
     "metadata": {},
     "output_type": "execute_result"
    },
    {
     "data": {
      "image/png": "[encoded data removed]",
      "text/plain": [
       "<Figure size 432x288 with 1 Axes>"
      ]
     },
     "metadata": {
      "needs_background": "light"
     },
     "output_type": "display_data"
    }
   ],
   "source": [
    "plt.scatter(theta_array,\n",
    "            signal_fringes(theta_array, d, delta, n_l, n_g, wavelength))\n",
    "plt.scatter(theta_array,\n",
    "            fringes_difference_medium(theta_array, 2*delta, n_g, wavelength))\n",
    "plt.plot(theta_array, np.ones(len(theta_array)))\n",
    "plt.plot(theta_array, 2* np.ones(len(theta_array)))\n",
    "plt.plot(np.ones(10)*diff_rad[1], np.arange(10)*0.3)\n",
    "plt.plot(np.ones(10)*(diff_rad[1]+diff_rad[0]), np.arange(10)*0.3)\n",
    "plt.plot(np.ones(10)*(diff_rad[1]+diff_rad[2]), np.arange(10)*0.3)"
   ]
  },
  {
   "cell_type": "code",
   "execution_count": 28,
   "metadata": {
    "scrolled": true
   },
   "outputs": [
    {
     "data": {
      "text/plain": [
       "<matplotlib.collections.PathCollection at 0x7f7502ff4390>"
      ]
     },
     "execution_count": 28,
     "metadata": {},
     "output_type": "execute_result"
    },
    {
     "data": {
      "image/png": "[encoded data removed]",
      "text/plain": [
       "<Figure size 432x288 with 1 Axes>"
      ]
     },
     "metadata": {
      "needs_background": "light"
     },
     "output_type": "display_data"
    }
   ],
   "source": [
    "plt.scatter(theta_array,\n",
    "            fringes_difference_medium(theta_array, d, n_l, wavelength))\n",
    "plt.scatter(theta_array,\n",
    "            fringes_difference_medium(theta_array, 2*delta, n_g, wavelength))\n"
   ]
  },
  {
   "cell_type": "code",
   "execution_count": 29,
   "metadata": {},
   "outputs": [
    {
     "data": {
      "text/plain": [
       "<matplotlib.collections.PathCollection at 0x7f7502f9e198>"
      ]
     },
     "execution_count": 29,
     "metadata": {},
     "output_type": "execute_result"
    },
    {
     "data": {
      "image/png": "[encoded data removed]",
      "text/plain": [
       "<Figure size 432x288 with 1 Axes>"
      ]
     },
     "metadata": {
      "needs_background": "light"
     },
     "output_type": "display_data"
    }
   ],
   "source": [
    "plt.scatter(theta_array,\n",
    "            fringes_difference_medium(theta_array, 2*delta, n_g, wavelength) - \n",
    "           fringes_difference_medium(theta_array, d, n_l, wavelength))"
   ]
  },
  {
   "cell_type": "code",
   "execution_count": 25,
   "metadata": {},
   "outputs": [
    {
     "data": {
      "text/plain": [
       "<matplotlib.collections.PathCollection at 0x7fd486b92a90>"
      ]
     },
     "execution_count": 25,
     "metadata": {},
     "output_type": "execute_result"
    },
    {
     "data": {
      "image/png": "[encoded data removed]",
      "text/plain": [
       "<Figure size 432x288 with 1 Axes>"
      ]
     },
     "metadata": {
      "needs_background": "light"
     },
     "output_type": "display_data"
    }
   ],
   "source": [
    "\n",
    "\n",
    "plt.scatter(theta_array, np.array(epsilon(theta_array, n_l, n_g, d, delta)))"
   ]
  },
  {
   "cell_type": "code",
   "execution_count": 26,
   "metadata": {
    "scrolled": true
   },
   "outputs": [
    {
     "data": {
      "text/plain": [
       "<matplotlib.collections.PathCollection at 0x7fd486b6a978>"
      ]
     },
     "execution_count": 26,
     "metadata": {},
     "output_type": "execute_result"
    },
    {
     "data": {
      "image/png": "[encoded data removed]",
      "text/plain": [
       "<Figure size 432x288 with 1 Axes>"
      ]
     },
     "metadata": {
      "needs_background": "light"
     },
     "output_type": "display_data"
    }
   ],
   "source": [
    "plt.scatter(theta_array,  deltaN(theta_array, delta_theta, wavelength, n_l, d))"
   ]
  },
  {
   "cell_type": "code",
   "execution_count": 27,
   "metadata": {
    "scrolled": true
   },
   "outputs": [
    {
     "name": "stdout",
     "output_type": "stream",
     "text": [
      "Change in n_l corresponding to 1 fringe of displacement, no phi\n",
      "0.006799999999999251\n",
      "Difference in number of fringes between phi = 0 and the value given\n",
      "-4.295568844213847\n"
     ]
    }
   ],
   "source": [
    "n_l_base = 1.4\n",
    "n_fringes_base = n_fringes(wavelength, theta, n_l_base, d)\n",
    "\n",
    "step = 0.0001\n",
    "n_fringes_current = n_fringes_base\n",
    "\n",
    "n_l = n_l_base\n",
    "while(n_fringes_current < n_fringes_base + 1):\n",
    "    n_l = n_l + step\n",
    "    n_fringes_current = n_fringes(wavelength, theta, n_l, d)\n",
    "\n",
    "print(\"Change in n_l corresponding to 1 fringe of displacement, no phi\")\n",
    "print(n_l - n_l_base)\n",
    "\n",
    "phi_primes = 20\n",
    "phi_deg = phi_primes / 60\n",
    "phi =  np.deg2rad(phi_deg)\n",
    "n_l = 1.4\n",
    "\n",
    "print(\"Difference in number of fringes between phi = 0 and the value given\")\n",
    "print(n_fringes_yesphi(wavelength, theta, n_l, n_g, d, delta, phi) - n_fringes_yesphi(wavelength, theta, n_l, n_g, d, delta, 0))"
   ]
  },
  {
   "cell_type": "markdown",
   "metadata": {},
   "source": [
    "**We set**\n",
    "\n",
    "* $\\theta _{max}$: the maximum inclination of the container\n",
    "* $d$: the width of the container\n",
    "* $n_l$: the approximate value of the index of refraction of the liquid\n",
    "\n",
    "**We calculate**\n",
    "\n",
    "* $\\varepsilon _{max}$: the displacement in the perpendicular direction\n",
    "* $N_{fr}$: number of fringes between 0 and $\\theta_{max}$\n",
    "* $\\Delta_n$: fringes resolution at $\\theta_{max}$\n",
    "* $\\chi = \\Delta _{n_l}$ corresponding to $\\Delta_n = 1$\n",
    "\n",
    "$e^{\\pi i}$"
   ]
  },
  {
   "cell_type": "code",
   "execution_count": 19,
   "metadata": {},
   "outputs": [
    {
     "name": "stdout",
     "output_type": "stream",
     "text": [
      "Epsilon =  2.1200996007512387\n",
      "n_fringes =  209.6661277587129\n",
      "delta_n =  0.379901670422953\n",
      "chi =  26.789999997796077\n"
     ]
    }
   ],
   "source": [
    "step = 0.000001\n",
    "n_l_current = n_l\n",
    "n_fringes_base = n_fringes(wavelength, theta, n_l, d)\n",
    "n_fringes_current = n_fringes_base\n",
    "while(n_fringes_current < n_fringes_base + 1):\n",
    "    n_l_current = n_l_current + step\n",
    "    n_fringes_current = n_fringes(wavelength, theta, n_l_current, d)\n",
    "    #print(\"Hey jude\")\n",
    "    \n",
    "chi = n_l_current - n_l\n",
    "\n",
    "print(\"Epsilon = \", epsilon(theta, n_l, n_g, d, delta) * 10**3)\n",
    "print(\"n_fringes = \", n_fringes(wavelength, theta, n_l, d))\n",
    "print(\"delta_n = \", deltaN(theta, delta_theta, wavelength, n_l, d))\n",
    "print(\"chi = \", chi * 10**4)"
   ]
  },
  {
   "cell_type": "code",
   "execution_count": null,
   "metadata": {},
   "outputs": [],
   "source": []
  }
 ],
 "metadata": {
  "kernelspec": {
   "display_name": "Python 3",
   "language": "python",
   "name": "python3"
  },
  "language_info": {
   "codemirror_mode": {
    "name": "ipython",
    "version": 3
   },
   "file_extension": ".py",
   "mimetype": "text/x-python",
   "name": "python",
   "nbconvert_exporter": "python",
   "pygments_lexer": "ipython3",
   "version": "3.6.4"
  }
 },
 "nbformat": 4,
 "nbformat_minor": 2
}
